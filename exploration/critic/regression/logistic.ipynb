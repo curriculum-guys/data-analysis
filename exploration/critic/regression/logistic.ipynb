{
 "cells": [
  {
   "cell_type": "markdown",
   "metadata": {},
   "source": [
    "# Logistic Regression\n",
    "\n",
    "### Complexity: O(n.n.m)\n",
    "\n",
    "n = samples\n",
    "\n",
    "m = features"
   ]
  },
  {
   "cell_type": "code",
   "execution_count": null,
   "metadata": {},
   "outputs": [],
   "source": [
    "import pandas as pd\n",
    "\n",
    "seed = 's1'\n",
    "\n",
    "# Bipedal Hardcore\n",
    "# base = '../../datalake/v0_1_3/standard/data/xbipedal/initialconditions'\n",
    "# n_features = 200\n",
    "\n",
    "# Double Pole\n",
    "base = '../../../../datalake/data_baseline/data/xdpole/initialconditions'\n",
    "n_features = 6\n",
    "\n",
    "ic = pd.read_csv(f\"{base}/{seed}_run.csv\")"
   ]
  },
  {
   "cell_type": "code",
   "execution_count": null,
   "metadata": {},
   "outputs": [],
   "source": [
    "from sklearn.model_selection import train_test_split\n",
    "from sklearn.preprocessing import PolynomialFeatures\n",
    "\n",
    "features = ic.columns[[i for i in range(n_features)]]\n",
    "target = 'performance'\n",
    "X, y = ic[features], ic[target]\n",
    "\n",
    "start = 1000 * 10\n",
    "X, y = X[start:], y[start:]\n",
    "X = PolynomialFeatures(2).fit_transform(X, y)\n",
    "\n",
    "X_train, X_test, y_train, y_test = train_test_split(X, y, test_size=0.3, random_state=42)"
   ]
  },
  {
   "cell_type": "code",
   "execution_count": null,
   "metadata": {},
   "outputs": [],
   "source": [
    "import numpy as np\n",
    "from utils import fit_cv\n",
    "from sklearn.linear_model import LogisticRegression\n",
    "from sklearn.model_selection import GridSearchCV\n",
    "\n",
    "grid = {\n",
    "    'C': np.logspace(-3,3,7),\n",
    "    'penalty': [\"l1\",\"l2\"],\n",
    "    'solver': ['lbfgs', 'liblinear', 'newton-cg', 'newton-cholesky', 'sag', 'saga']\n",
    "}\n",
    "print(grid)\n",
    "\n",
    "reg = GridSearchCV(\n",
    "    LogisticRegression(),\n",
    "    param_grid=grid,\n",
    "    cv=3,\n",
    "    verbose=0,\n",
    "    n_jobs=-1\n",
    ")\n",
    "\n",
    "params = fit_cv(reg, (X_train, y_train), 'logistic')"
   ]
  },
  {
   "cell_type": "code",
   "execution_count": null,
   "metadata": {},
   "outputs": [],
   "source": [
    "from critic import evolution\n",
    "\n",
    "def model(X=[], y=[]):\n",
    "    m = LogisticRegression(**params, random_state=42)\n",
    "    if len(X) + len(y) > 0:\n",
    "        m.fit(X,y)\n",
    "    return m\n",
    "\n",
    "s, p, t = evolution(X, y, model, batch=10)\n",
    "print(t)"
   ]
  },
  {
   "cell_type": "code",
   "execution_count": null,
   "metadata": {},
   "outputs": [],
   "source": [
    "import seaborn as sns\n",
    "from utils import graph_defaults\n",
    "graph_defaults()\n",
    "\n",
    "sns.lineplot(s)"
   ]
  },
  {
   "cell_type": "code",
   "execution_count": null,
   "metadata": {},
   "outputs": [],
   "source": [
    "p = [yp for gen in p for yp in gen]\n",
    "\n",
    "sns.scatterplot(p)"
   ]
  },
  {
   "cell_type": "code",
   "execution_count": null,
   "metadata": {},
   "outputs": [],
   "source": [
    "yt = [y[i] for i in range(start+1, len(y), 2)]\n",
    "\n",
    "e = [p[i]/yt[i] for i in range(len(p))]"
   ]
  },
  {
   "cell_type": "code",
   "execution_count": null,
   "metadata": {},
   "outputs": [],
   "source": [
    "sns.scatterplot(e)"
   ]
  },
  {
   "cell_type": "code",
   "execution_count": null,
   "metadata": {},
   "outputs": [],
   "source": [
    "sns.histplot(e, bins=20)"
   ]
  },
  {
   "cell_type": "code",
   "execution_count": null,
   "metadata": {},
   "outputs": [],
   "source": [
    "e_df = pd.DataFrame(e)\n",
    "e_df.columns = [\"e\"]\n",
    "\n",
    "e_clean = e_df.query(\"-1 < e <= 1\")\n",
    "e_outliers = e_df.query(\"1 < e or e <= -1\")\n",
    "\n",
    "print(\"outliers\", len(e_outliers))\n",
    "print(\"near\", len(e_clean))"
   ]
  },
  {
   "cell_type": "code",
   "execution_count": null,
   "metadata": {},
   "outputs": [],
   "source": [
    "e_outliers.hist()"
   ]
  },
  {
   "cell_type": "code",
   "execution_count": null,
   "metadata": {},
   "outputs": [],
   "source": [
    "e_clean.hist()"
   ]
  }
 ],
 "metadata": {
  "kernelspec": {
   "display_name": "venv",
   "language": "python",
   "name": "python3"
  },
  "language_info": {
   "codemirror_mode": {
    "name": "ipython",
    "version": 3
   },
   "file_extension": ".py",
   "mimetype": "text/x-python",
   "name": "python",
   "nbconvert_exporter": "python",
   "pygments_lexer": "ipython3",
   "version": "3.10.12"
  }
 },
 "nbformat": 4,
 "nbformat_minor": 2
}
