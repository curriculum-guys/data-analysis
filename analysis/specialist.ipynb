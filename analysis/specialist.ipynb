{
 "cells": [
  {
   "cell_type": "code",
   "execution_count": null,
   "metadata": {},
   "outputs": [],
   "source": [
    "import pandas as pd\n",
    "import numpy as np\n",
    "\n",
    "specialist_data = '../../datalake/data_integrated_3/data/xdpole/main_manager/main_stats'\n",
    "seeds = [f's{i}' for i in range(1, 11)]\n",
    "\n",
    "specialists_score = []\n",
    "\n",
    "for seed in seeds:\n",
    "    df = pd.read_csv(f'{specialist_data}/{seed}_run.csv')\n",
    "    specialists_score.append(\n",
    "        np.array(\n",
    "            df.specialist_score.dropna()\n",
    "        )\n",
    "    )"
   ]
  },
  {
   "cell_type": "code",
   "execution_count": null,
   "metadata": {},
   "outputs": [],
   "source": [
    "import seaborn as sns\n",
    "\n",
    "sns.boxplot(specialists_score)"
   ]
  }
 ],
 "metadata": {
  "kernelspec": {
   "display_name": "venv",
   "language": "python",
   "name": "python3"
  },
  "language_info": {
   "codemirror_mode": {
    "name": "ipython",
    "version": 3
   },
   "file_extension": ".py",
   "mimetype": "text/x-python",
   "name": "python",
   "nbconvert_exporter": "python",
   "pygments_lexer": "ipython3",
   "version": "3.10.6"
  },
  "orig_nbformat": 4
 },
 "nbformat": 4,
 "nbformat_minor": 2
}
