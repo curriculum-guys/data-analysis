{
 "cells": [
  {
   "cell_type": "code",
   "execution_count": 2,
   "metadata": {},
   "outputs": [
    {
     "name": "stdout",
     "output_type": "stream",
     "text": [
      "{'standard': [738.231, 721.054, 709.731, 733.393, 703.829, 709.686, 745.689, 728.658, 700.056, 719.041], 'p0': [778.669, 777.865, 741.364, 768.356, 769.256, 753.891, 781.861, 771.166, 742.006, 759.822], 'p2': [771.926, 749.588, 731.299, 760.613, 753.559, 742.813, 760.459, 760.386, 724.978, 757.86], 'p4': [764.86, 740.927, 730.187, 754.506, 745.753, 739.996, 759.244, 751.35, 720.928, 740.391], 'p6': [751.613, 737.487, 715.329, 736.101, 707.831, 730.158, 748.743, 754.632, 710.772, 730.828], 'p8': [740.34, 711.188, 695.044, 714.608, 676.134, 718.718, 739.912, 729.475, 702.199, 722.238], 'p10': [695.632, 682.197, 690.789, 686.37, 665.628, 657.82, 683.192, 724.364, 675.498, 671.255]}\n",
      "{'standard': [723.62, 721.62, 727.1, 730.67, 703.21, 721.33, 730.42, 721.12, 717.45, 717.77], 'p0': [769.23, 779.26, 760.77, 771.69, 767.11, 765.82, 777.27, 750.0, 759.16, 769.33], 'p2': [754.77, 755.2, 761.64, 757.03, 749.18, 755.37, 754.16, 751.57, 742.08, 765.98], 'p4': [748.65, 738.58, 752.44, 752.06, 731.22, 740.53, 748.56, 735.8, 723.67, 737.31], 'p6': [737.93, 737.39, 732.5, 734.45, 719.52, 732.49, 735.26, 735.68, 718.38, 728.37], 'p8': [718.26, 709.36, 715.24, 728.42, 688.34, 719.65, 732.94, 720.31, 720.06, 724.33], 'p10': [695.04, 684.36, 700.99, 690.29, 667.15, 652.52, 657.65, 721.27, 670.04, 674.0]}\n"
     ]
    }
   ],
   "source": [
    "import pandas as pd\n",
    "\n",
    "experiments = [\n",
    "    'standard',\n",
    "    'p0',\n",
    "    'p2',\n",
    "    'p4',\n",
    "    'p6',\n",
    "    'p8',\n",
    "    'p10'\n",
    "]\n",
    "\n",
    "seeds = [f's{i}' for i in range(1, 11)]\n",
    "tests = {}\n",
    "fits = {}\n",
    "\n",
    "base_dir = '../../datalake/wcci'\n",
    "\n",
    "for experiment in experiments:\n",
    "    tests_data = f'{base_dir}/{experiment}/data/xdpole/runstats'\n",
    "    test_group = []\n",
    "    fit_group = []\n",
    "\n",
    "    for seed in seeds:\n",
    "        seed_test = pd.read_csv(f'{tests_data}/{seed}_test.csv')\n",
    "        score = seed_test.score[0]\n",
    "        test_group.append(score)\n",
    "        seed_fit = pd.read_csv(f'{tests_data}/{seed}_run.csv')\n",
    "        fit = seed_fit.bestgfit.max()\n",
    "        fit_group.append(fit)\n",
    "    tests[experiment] = test_group\n",
    "    fits[experiment] = fit_group\n",
    "\n",
    "print(tests)\n",
    "print(fits)"
   ]
  },
  {
   "cell_type": "code",
   "execution_count": 3,
   "metadata": {},
   "outputs": [],
   "source": [
    "from scipy import stats\n",
    "\n",
    "def kruskal(groups):\n",
    "    s, p = stats.kruskal(*groups.values())\n",
    "    if p < 0.001:\n",
    "        print(f'different distributions: p = {p}')"
   ]
  },
  {
   "cell_type": "code",
   "execution_count": 4,
   "metadata": {},
   "outputs": [],
   "source": [
    "def mannwhitneyu(groups):\n",
    "    results = {}\n",
    "    for experiment, score in groups.items():\n",
    "        for experiment_, score_ in groups.items():\n",
    "            if experiment != experiment_:\n",
    "                s, p = stats.mannwhitneyu(score, score_, alternative='greater')\n",
    "                test = f\"{experiment} > {experiment_}\"\n",
    "                print(f\"{test} : {p}\")\n",
    "                results[test] = p\n",
    "    return results"
   ]
  },
  {
   "cell_type": "code",
   "execution_count": 5,
   "metadata": {},
   "outputs": [],
   "source": [
    "def hypothesis_validation(results):\n",
    "    alpha = [0.001, 0.005, 0.01]\n",
    "    for a in alpha:\n",
    "        print(f\"\\nalpha = {a}\")\n",
    "        for test, p in results.items():\n",
    "            if p < a:\n",
    "                print(f\"{test} ({p})\")"
   ]
  },
  {
   "cell_type": "code",
   "execution_count": 6,
   "metadata": {},
   "outputs": [
    {
     "name": "stdout",
     "output_type": "stream",
     "text": [
      "\n",
      "tests\n",
      "different distributions: p = 8.052346314455685e-09\n",
      "standard > p0 : 0.9998769359360474\n",
      "standard > p2 : 0.9993425276651434\n",
      "standard > p4 : 0.9985863639544416\n",
      "standard > p6 : 0.9393877484935417\n",
      "standard > p8 : 0.33879247897623777\n",
      "standard > p10 : 0.0005039881201883722\n",
      "p0 > standard : 0.00016491926038899677\n",
      "p0 > p2 : 0.05205494483011341\n",
      "p0 > p4 : 0.00364227850473983\n",
      "p0 > p6 : 0.0006574723348566069\n",
      "p0 > p8 : 9.133589555477501e-05\n",
      "p0 > p10 : 9.133589555477501e-05\n",
      "p2 > standard : 0.0008531246844597982\n",
      "p2 > p0 : 0.9555134941490934\n",
      "p2 > p4 : 0.12066079650859002\n",
      "p2 > p6 : 0.008628728041559883\n",
      "p2 > p8 : 0.00038426945658138323\n",
      "p2 > p10 : 9.133589555477501e-05\n",
      "p4 > standard : 0.0018052571561648014\n",
      "p4 > p0 : 0.9971023207278327\n",
      "p4 > p2 : 0.8938530819038342\n",
      "p4 > p6 : 0.05205494483011341\n",
      "p4 > p8 : 0.0006574723348566069\n",
      "p4 > p10 : 0.00012306406395261486\n",
      "p6 > standard : 0.07023252407917747\n",
      "p6 > p0 : 0.9994960118798116\n",
      "p6 > p2 : 0.99299036144302\n",
      "p6 > p4 : 0.9555134941490934\n",
      "p6 > p8 : 0.04448650585090664\n",
      "p6 > p10 : 0.00021981937631328227\n",
      "p8 > standard : 0.6884118880589414\n",
      "p8 > p0 : 0.9999325785388228\n",
      "p8 > p2 : 0.9997085800284103\n",
      "p8 > p4 : 0.9994960118798116\n",
      "p8 > p6 : 0.9621692139280564\n",
      "p8 > p10 : 0.002897679272167355\n",
      "p10 > standard : 0.9996157305434186\n",
      "p10 > p0 : 0.9999325785388228\n",
      "p10 > p2 : 0.9999325785388228\n",
      "p10 > p4 : 0.9999086641044452\n",
      "p10 > p6 : 0.999835080739611\n",
      "p10 > p8 : 0.9977068039598732\n"
     ]
    }
   ],
   "source": [
    "print('\\ntests')\n",
    "kruskal(tests)\n",
    "tests_results = mannwhitneyu(tests)"
   ]
  },
  {
   "cell_type": "code",
   "execution_count": 7,
   "metadata": {},
   "outputs": [
    {
     "name": "stdout",
     "output_type": "stream",
     "text": [
      "\n",
      "fits\n",
      "different distributions: p = 4.0824961823327484e-11\n",
      "standard > p0 : 0.9999325785388228\n",
      "standard > p2 : 0.9999325785388228\n",
      "standard > p4 : 0.999835080739611\n",
      "standard > p6 : 0.9954457518009845\n",
      "standard > p8 : 0.21367765694890384\n",
      "standard > p10 : 0.00029141997158963715\n",
      "p0 > standard : 9.133589555477501e-05\n",
      "p0 > p2 : 0.002897679272167355\n",
      "p0 > p4 : 0.00016491926038899677\n",
      "p0 > p6 : 9.133589555477501e-05\n",
      "p0 > p8 : 9.133589555477501e-05\n",
      "p0 > p10 : 9.133589555477501e-05\n",
      "p2 > standard : 9.133589555477501e-05\n",
      "p2 > p0 : 0.9977068039598732\n",
      "p2 > p4 : 0.0008531246844597982\n",
      "p2 > p6 : 9.133589555477501e-05\n",
      "p2 > p8 : 9.133589555477501e-05\n",
      "p2 > p10 : 9.133589555477501e-05\n",
      "p4 > standard : 0.00021981937631328227\n",
      "p4 > p0 : 0.9998769359360474\n",
      "p4 > p2 : 0.9993425276651434\n",
      "p4 > p6 : 0.01056696406458055\n",
      "p4 > p8 : 0.00029141997158963715\n",
      "p4 > p10 : 9.133589555477501e-05\n",
      "p6 > standard : 0.005664848342237332\n",
      "p6 > p0 : 0.9999325785388228\n",
      "p6 > p2 : 0.9999325785388228\n",
      "p6 > p4 : 0.9913712719584401\n",
      "p6 > p8 : 0.005664848342237332\n",
      "p6 > p10 : 0.00016491926038899677\n",
      "p8 > standard : 0.8076634686322457\n",
      "p8 > p0 : 0.9999325785388228\n",
      "p8 > p2 : 0.9999325785388228\n",
      "p8 > p4 : 0.9997801806236867\n",
      "p8 > p6 : 0.9954457518009845\n",
      "p8 > p10 : 0.0014136360455584039\n",
      "p10 > standard : 0.9997801806236867\n",
      "p10 > p0 : 0.9999325785388228\n",
      "p10 > p2 : 0.9999325785388228\n",
      "p10 > p4 : 0.9999325785388228\n",
      "p10 > p6 : 0.9998769359360474\n",
      "p10 > p8 : 0.9988988900287514\n"
     ]
    }
   ],
   "source": [
    "print('\\nfits')\n",
    "kruskal(fits)\n",
    "fits_results = mannwhitneyu(fits)"
   ]
  }
 ],
 "metadata": {
  "kernelspec": {
   "display_name": "venv",
   "language": "python",
   "name": "python3"
  },
  "language_info": {
   "codemirror_mode": {
    "name": "ipython",
    "version": 3
   },
   "file_extension": ".py",
   "mimetype": "text/x-python",
   "name": "python",
   "nbconvert_exporter": "python",
   "pygments_lexer": "ipython3",
   "version": "3.10.12"
  }
 },
 "nbformat": 4,
 "nbformat_minor": 2
}
