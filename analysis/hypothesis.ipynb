{
 "cells": [
  {
   "cell_type": "code",
   "execution_count": 31,
   "metadata": {},
   "outputs": [],
   "source": [
    "import pandas as pd\n",
    "import numpy as np\n",
    "\n",
    "experiments = ['standard', 'critic-curriculum', 'systematic-curriculum']\n",
    "seeds = [i+1 for i in range(10)]\n",
    "tests = {}\n",
    "\n",
    "base_dir = '../../evorobot-paper/data'\n",
    "\n",
    "for exp in experiments:\n",
    "    exp_tests = []\n",
    "    for seed in seeds:\n",
    "        t = np.load(f\"{base_dir}/{exp}/tests/testS{seed}.npy\")\n",
    "        exp_tests += list(t)\n",
    "    tests[exp] = exp_tests "
   ]
  },
  {
   "cell_type": "code",
   "execution_count": 32,
   "metadata": {},
   "outputs": [],
   "source": [
    "from scipy import stats\n",
    "\n",
    "def kruskal(groups):\n",
    "    s, p = stats.kruskal(*groups.values())\n",
    "    if p < 0.001:\n",
    "        print(f'different distributions: p = {p}')"
   ]
  },
  {
   "cell_type": "code",
   "execution_count": 33,
   "metadata": {},
   "outputs": [],
   "source": [
    "def mannwhitneyu(groups):\n",
    "    results = {}\n",
    "    tests = experiments.copy()\n",
    "    for experiment, score in groups.items():\n",
    "        for experiment_ in tests:\n",
    "            if experiment != experiment_:\n",
    "                score_ = groups.get(experiment_)\n",
    "                _, p = stats.mannwhitneyu(score, score_)\n",
    "                test = f\"[{experiment}] <> [{experiment_}]\"\n",
    "                results[test] = np.around(p, 5)\n",
    "        tests.remove(experiment)\n",
    "    return results"
   ]
  },
  {
   "cell_type": "code",
   "execution_count": 34,
   "metadata": {},
   "outputs": [],
   "source": [
    "def hypothesis_validation(results):\n",
    "    k = len(list(results.keys()))\n",
    "    a = np.around(0.05 / k, 5)\n",
    "    print(f\"correction: k({k}), a({a})\\n\")\n",
    "    for test, p in results.items():\n",
    "        if p < a:\n",
    "            print(f\"{test} ({p})\")"
   ]
  },
  {
   "cell_type": "code",
   "execution_count": 35,
   "metadata": {},
   "outputs": [
    {
     "name": "stdout",
     "output_type": "stream",
     "text": [
      "different distributions: p = 8.806680295330267e-06\n",
      "correction: k(3) a(0.01667)\n",
      "\n",
      "[standard] <> [critic-curriculum] (0.00361)\n",
      "[standard] <> [systematic-curriculum] (0.00018)\n",
      "[critic-curriculum] <> [systematic-curriculum] (0.00018)\n"
     ]
    }
   ],
   "source": [
    "kruskal(tests)\n",
    "tests_results = mannwhitneyu(tests)\n",
    "hypothesis_validation(tests_results)"
   ]
  }
 ],
 "metadata": {
  "kernelspec": {
   "display_name": "venv",
   "language": "python",
   "name": "python3"
  },
  "language_info": {
   "codemirror_mode": {
    "name": "ipython",
    "version": 3
   },
   "file_extension": ".py",
   "mimetype": "text/x-python",
   "name": "python",
   "nbconvert_exporter": "python",
   "pygments_lexer": "ipython3",
   "version": "3.10.12"
  }
 },
 "nbformat": 4,
 "nbformat_minor": 2
}
