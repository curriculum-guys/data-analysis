{
 "cells": [
  {
   "cell_type": "code",
   "execution_count": 2,
   "metadata": {},
   "outputs": [
    {
     "name": "stdout",
     "output_type": "stream",
     "text": [
      "{'standard': [738.231, 721.054, 709.731, 733.393, 703.829, 709.686, 745.689, 728.658, 700.056, 719.041], 'p0': [778.669, 777.865, 741.364, 768.356, 769.256, 753.891, 781.861, 771.166, 742.006, 759.822], 'p2': [771.926, 749.588, 731.299, 760.613, 753.559, 742.813, 760.459, 760.386, 724.978, 757.86], 'p4': [764.86, 740.927, 730.187, 754.506, 745.753, 739.996, 759.244, 751.35, 720.928, 740.391], 'p6': [751.613, 737.487, 715.329, 736.101, 707.831, 730.158, 748.743, 754.632, 710.772, 730.828], 'p8': [740.34, 711.188, 695.044, 714.608, 676.134, 718.718, 739.912, 729.475, 702.199, 722.238], 'p10': [695.632, 682.197, 690.789, 686.37, 665.628, 657.82, 683.192, 724.364, 675.498, 671.255]}\n",
      "{'standard': [723.62, 721.62, 727.1, 730.67, 703.21, 721.33, 730.42, 721.12, 717.45, 717.77], 'p0': [769.23, 779.26, 760.77, 771.69, 767.11, 765.82, 777.27, 750.0, 759.16, 769.33], 'p2': [754.77, 755.2, 761.64, 757.03, 749.18, 755.37, 754.16, 751.57, 742.08, 765.98], 'p4': [748.65, 738.58, 752.44, 752.06, 731.22, 740.53, 748.56, 735.8, 723.67, 737.31], 'p6': [737.93, 737.39, 732.5, 734.45, 719.52, 732.49, 735.26, 735.68, 718.38, 728.37], 'p8': [718.26, 709.36, 715.24, 728.42, 688.34, 719.65, 732.94, 720.31, 720.06, 724.33], 'p10': [695.04, 684.36, 700.99, 690.29, 667.15, 652.52, 657.65, 721.27, 670.04, 674.0]}\n"
     ]
    }
   ],
   "source": [
    "import pandas as pd\n",
    "\n",
    "experiments = [\n",
    "    'standard',\n",
    "    'p0',\n",
    "    'p2',\n",
    "    'p4',\n",
    "    'p6',\n",
    "    'p8',\n",
    "    'p10'\n",
    "]\n",
    "\n",
    "seeds = [f's{i}' for i in range(1, 11)]\n",
    "tests = {}\n",
    "fits = {}\n",
    "\n",
    "base_dir = '../../datalake/ppsn'\n",
    "\n",
    "for experiment in experiments:\n",
    "    tests_data = f'{base_dir}/{experiment}/data/xdpole/runstats'\n",
    "    test_group = []\n",
    "    fit_group = []\n",
    "\n",
    "    for seed in seeds:\n",
    "        seed_test = pd.read_csv(f'{tests_data}/{seed}_test.csv')\n",
    "        score = seed_test.score[0]\n",
    "        test_group.append(score)\n",
    "        seed_fit = pd.read_csv(f'{tests_data}/{seed}_run.csv')\n",
    "        fit = seed_fit.bestgfit.max()\n",
    "        fit_group.append(fit)\n",
    "    tests[experiment] = test_group\n",
    "    fits[experiment] = fit_group\n",
    "\n",
    "print(tests)\n",
    "print(fits)"
   ]
  },
  {
   "cell_type": "code",
   "execution_count": 3,
   "metadata": {},
   "outputs": [],
   "source": [
    "from scipy import stats\n",
    "\n",
    "def kruskal(groups):\n",
    "    s, p = stats.kruskal(*groups.values())\n",
    "    if p < 0.001:\n",
    "        print(f'different distributions: p = {p}')"
   ]
  },
  {
   "cell_type": "code",
   "execution_count": 4,
   "metadata": {},
   "outputs": [],
   "source": [
    "def mannwhitneyu(groups):\n",
    "    results = {}\n",
    "    tests = experiments.copy()\n",
    "    for experiment, score in groups.items():\n",
    "        for experiment_ in tests:\n",
    "            if experiment != experiment_:\n",
    "                score_ = groups.get(experiment_)\n",
    "                _, p = stats.mannwhitneyu(score, score_)\n",
    "                test = f\"{experiment}-{experiment_}\"\n",
    "                results[test] = p\n",
    "        tests.remove(experiment)\n",
    "    return results"
   ]
  },
  {
   "cell_type": "code",
   "execution_count": 5,
   "metadata": {},
   "outputs": [],
   "source": [
    "def hypothesis_validation(results):\n",
    "    k = len(list(results.keys()))\n",
    "    print(k)\n",
    "    a = 0.05 / k\n",
    "    print(a)\n",
    "    for test, p in results.items():\n",
    "        if p < a:\n",
    "            print(f\"{test} ({p})\")"
   ]
  },
  {
   "cell_type": "code",
   "execution_count": 6,
   "metadata": {},
   "outputs": [
    {
     "name": "stdout",
     "output_type": "stream",
     "text": [
      "\n",
      "tests\n",
      "different distributions: p = 8.052346314455685e-09\n",
      "21\n",
      "0.002380952380952381\n",
      "standard-p0 (0.00032983852077799353)\n",
      "standard-p2 (0.0017062493689195964)\n",
      "standard-p10 (0.0010079762403767444)\n",
      "p0-p6 (0.0013149446697132139)\n",
      "p0-p8 (0.00018267179110955002)\n",
      "p0-p10 (0.00018267179110955002)\n",
      "p2-p8 (0.0007685389131627665)\n",
      "p2-p10 (0.00018267179110955002)\n",
      "p4-p8 (0.0013149446697132139)\n",
      "p4-p10 (0.00024612812790522973)\n",
      "p6-p10 (0.00043963875262656454)\n"
     ]
    }
   ],
   "source": [
    "print('\\ntests')\n",
    "kruskal(tests)\n",
    "tests_results = mannwhitneyu(tests)\n",
    "hypothesis_validation(tests_results)"
   ]
  },
  {
   "cell_type": "code",
   "execution_count": 7,
   "metadata": {},
   "outputs": [
    {
     "name": "stdout",
     "output_type": "stream",
     "text": [
      "\n",
      "fits\n",
      "different distributions: p = 4.0824961823327484e-11\n",
      "21\n",
      "0.002380952380952381\n",
      "standard-p0 (0.00018267179110955002)\n",
      "standard-p2 (0.00018267179110955002)\n",
      "standard-p4 (0.00043963875262656454)\n",
      "standard-p10 (0.0005828399431792743)\n",
      "p0-p4 (0.00032983852077799353)\n",
      "p0-p6 (0.00018267179110955002)\n",
      "p0-p8 (0.00018267179110955002)\n",
      "p0-p10 (0.00018267179110955002)\n",
      "p2-p4 (0.0017062493689195964)\n",
      "p2-p6 (0.00018267179110955002)\n",
      "p2-p8 (0.00018267179110955002)\n",
      "p2-p10 (0.00018267179110955002)\n",
      "p4-p8 (0.0005828399431792743)\n",
      "p4-p10 (0.00018267179110955002)\n",
      "p6-p10 (0.00032983852077799353)\n"
     ]
    }
   ],
   "source": [
    "print('\\nfits')\n",
    "kruskal(fits)\n",
    "fits_results = mannwhitneyu(fits)\n",
    "hypothesis_validation(fits_results)"
   ]
  }
 ],
 "metadata": {
  "kernelspec": {
   "display_name": "venv",
   "language": "python",
   "name": "python3"
  },
  "language_info": {
   "codemirror_mode": {
    "name": "ipython",
    "version": 3
   },
   "file_extension": ".py",
   "mimetype": "text/x-python",
   "name": "python",
   "nbconvert_exporter": "python",
   "pygments_lexer": "ipython3",
   "version": "3.10.12"
  }
 },
 "nbformat": 4,
 "nbformat_minor": 2
}
