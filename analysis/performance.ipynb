{
 "cells": [
  {
   "cell_type": "code",
   "execution_count": null,
   "metadata": {},
   "outputs": [],
   "source": [
    "import pandas as pd\n",
    "import numpy as np\n",
    "\n",
    "seeds = [f's{i}' for i in range(1, 11)]\n",
    "experiments = ['baseline', 'integrated_1', 'integrated_2', 'integrated_3']\n",
    "tests_score = {}\n",
    "run_stats = {}\n",
    "\n",
    "for experiment in experiments:\n",
    "    tests_data = f'../../datalake/data_{experiment}/data/xdpole/runstats'\n",
    "    tests_score[experiment] = []\n",
    "    run_stats[experiment] = []\n",
    "    for seed in seeds:\n",
    "        test = pd.read_csv(f'{tests_data}/{seed}_test.csv')\n",
    "        tests_score[experiment].append(test.score[0])\n",
    "\n",
    "        stats = pd.read_csv(f'{tests_data}/{seed}_run.csv')\n",
    "        run_stats[experiment].append(stats.avgfit)"
   ]
  },
  {
   "cell_type": "code",
   "execution_count": null,
   "metadata": {},
   "outputs": [],
   "source": [
    "import matplotlib.pyplot as plt\n",
    "import seaborn as sns\n",
    "sns.set_theme()\n",
    "\n",
    "df = pd.DataFrame(tests_score)\n",
    "sns.boxplot(df, flierprops={\"marker\": \"x\"})\n",
    "plt.title(\"Experiments Post-Evaluation Performance\")\n",
    "plt.ylabel(\"Performance\")\n",
    "plt.xlabel(\"Experiment\")\n",
    "plt.show()"
   ]
  },
  {
   "cell_type": "code",
   "execution_count": null,
   "metadata": {},
   "outputs": [],
   "source": [
    "mean_stats = []\n",
    "\n",
    "for experiment in experiments:\n",
    "    df = pd.DataFrame(run_stats[experiment])\n",
    "    df_t = df.T\n",
    "    df_t.columns = seeds\n",
    "    df_mean = [np.mean(row) for row in df_t.values]\n",
    "    mean_stats.append(df_mean)\n",
    "\n",
    "df = pd.DataFrame(mean_stats)\n",
    "df = df.T\n",
    "df.columns = experiments\n",
    "sns.relplot(df, kind='line')"
   ]
  },
  {
   "cell_type": "code",
   "execution_count": null,
   "metadata": {},
   "outputs": [],
   "source": [
    "general = pd.DataFrame()\n",
    "limit = 4000\n",
    "\n",
    "for seed in seeds:\n",
    "    baseline_data = f'../../datalake/data_baseline/data/xdpole/baseconditions'\n",
    "    bdf = pd.read_csv(f'{baseline_data}/{seed}_run.csv')\n",
    "    integrated_data = f'../../datalake/data_integrated_3/data/xdpole/baseconditions'\n",
    "    idf = pd.read_csv(f'{integrated_data}/{seed}_run.csv')\n",
    "\n",
    "    diff = idf[:limit] - bdf[:limit]\n",
    "    general = diff if general.empty else general + diff\n",
    "\n",
    "general = general / len(seed)\n",
    "\n",
    "sns.heatmap(general.T, vmin=-1000, vmax=1000, cmap=\"vlag_r\")\n",
    "plt.title(\"Conditions Grid Evaluation\")\n",
    "plt.ylabel(\"Set\")\n",
    "plt.xlabel(\"Generation\")\n",
    "plt.show()"
   ]
  }
 ],
 "metadata": {
  "kernelspec": {
   "display_name": "venv",
   "language": "python",
   "name": "python3"
  },
  "language_info": {
   "codemirror_mode": {
    "name": "ipython",
    "version": 3
   },
   "file_extension": ".py",
   "mimetype": "text/x-python",
   "name": "python",
   "nbconvert_exporter": "python",
   "pygments_lexer": "ipython3",
   "version": "3.10.6"
  },
  "orig_nbformat": 4
 },
 "nbformat": 4,
 "nbformat_minor": 2
}
